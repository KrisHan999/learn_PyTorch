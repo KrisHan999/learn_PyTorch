{
 "cells": [
  {
   "cell_type": "code",
   "execution_count": 1,
   "metadata": {
    "ExecuteTime": {
     "end_time": "2019-08-05T23:31:57.515127Z",
     "start_time": "2019-08-05T23:31:56.862199Z"
    }
   },
   "outputs": [],
   "source": [
    "import torch\n",
    "import torch.nn as nn\n",
    "import torchvision\n",
    "import torchvision.transforms as transforms\n",
    "\n",
    "import torch.nn.functional as F\n",
    "import torch.optim as optim"
   ]
  },
  {
   "cell_type": "code",
   "execution_count": 2,
   "metadata": {
    "ExecuteTime": {
     "end_time": "2019-08-05T23:31:57.552991Z",
     "start_time": "2019-08-05T23:31:57.516091Z"
    }
   },
   "outputs": [],
   "source": [
    "data_set = torchvision.datasets.FashionMNIST(\n",
    "    root = './data',\n",
    "    download = True,\n",
    "    train = True,\n",
    "    transform = transforms.Compose([transforms.ToTensor()])\n",
    ")"
   ]
  },
  {
   "cell_type": "code",
   "execution_count": 3,
   "metadata": {
    "ExecuteTime": {
     "end_time": "2019-08-05T23:31:57.560973Z",
     "start_time": "2019-08-05T23:31:57.556982Z"
    }
   },
   "outputs": [],
   "source": [
    "data_loader = torch.utils.data.DataLoader(\n",
    "    data_set,\n",
    "    batch_size = 1000,\n",
    "    shuffle = True\n",
    ")"
   ]
  },
  {
   "cell_type": "code",
   "execution_count": 4,
   "metadata": {
    "ExecuteTime": {
     "end_time": "2019-08-05T23:31:57.571942Z",
     "start_time": "2019-08-05T23:31:57.564962Z"
    }
   },
   "outputs": [],
   "source": [
    "class Network(nn.Module):\n",
    "    def __init__(self):\n",
    "        super(Network, self).__init__()\n",
    "        self.features = nn.Sequential(\n",
    "            nn.Conv2d(1,6,5),\n",
    "            nn.ReLU(),\n",
    "            nn.MaxPool2d(2,2),\n",
    "            nn.Conv2d(6,12,5),\n",
    "            nn.ReLU(),\n",
    "            nn.MaxPool2d(2,2)\n",
    "        )\n",
    "        \n",
    "        self.classifier = nn.Sequential(\n",
    "            nn.Linear(12*4*4,60),\n",
    "            nn.ReLU(),\n",
    "            nn.Linear(60,10),\n",
    "            nn.ReLU()\n",
    "        )\n",
    "    \n",
    "    def forward(self, x):\n",
    "        x = self.features(x)\n",
    "        x = torch.flatten(x, 1)\n",
    "        x = self.classifier(x)\n",
    "        return x\n",
    "        "
   ]
  },
  {
   "cell_type": "code",
   "execution_count": 5,
   "metadata": {
    "ExecuteTime": {
     "end_time": "2019-08-05T23:31:57.578924Z",
     "start_time": "2019-08-05T23:31:57.574933Z"
    }
   },
   "outputs": [],
   "source": [
    "def get_num_correct(labels, targets):\n",
    "    return (labels == targets.argmax(dim=1)).sum().item()"
   ]
  },
  {
   "cell_type": "code",
   "execution_count": 6,
   "metadata": {
    "ExecuteTime": {
     "end_time": "2019-08-05T23:36:10.231585Z",
     "start_time": "2019-08-05T23:31:57.580919Z"
    }
   },
   "outputs": [
    {
     "name": "stdout",
     "output_type": "stream",
     "text": [
      "epoch: 0 total_correct 32740 loss 89.23979592323303\n",
      "epoch: 1 total_correct 40450 loss 70.20904731750488\n",
      "epoch: 2 total_correct 41949 loss 65.1881422996521\n",
      "epoch: 3 total_correct 42587 loss 62.81270307302475\n",
      "epoch: 4 total_correct 43080 loss 61.311224818229675\n",
      "epoch: 5 total_correct 43457 loss 60.03487968444824\n",
      "epoch: 6 total_correct 43712 loss 59.094791531562805\n",
      "epoch: 7 total_correct 43809 loss 58.53269284963608\n",
      "epoch: 8 total_correct 44158 loss 57.47499191761017\n",
      "epoch: 9 total_correct 44287 loss 57.09552711248398\n"
     ]
    }
   ],
   "source": [
    "network = Network()\n",
    "optimizer = optim.Adam(network.parameters(), lr=0.01)\n",
    "for epoch in range(10):\n",
    "    total_loss = 0\n",
    "    total_correct = 0\n",
    "    \n",
    "    for batch in data_loader:\n",
    "        images, labels = batch\n",
    "        \n",
    "        preds = network(images)\n",
    "        loss = F.cross_entropy(preds, labels)\n",
    "        \n",
    "        optimizer.zero_grad()\n",
    "        loss.backward()\n",
    "        optimizer.step()\n",
    "        \n",
    "        total_loss += loss.item()\n",
    "        total_correct += get_num_correct(labels, preds)\n",
    "    \n",
    "    print(\n",
    "        'epoch:', epoch,\n",
    "        'total_correct', total_correct,\n",
    "        'loss', total_loss\n",
    "    )"
   ]
  },
  {
   "cell_type": "code",
   "execution_count": 7,
   "metadata": {
    "ExecuteTime": {
     "end_time": "2019-08-05T23:36:10.330320Z",
     "start_time": "2019-08-05T23:36:10.233579Z"
    }
   },
   "outputs": [],
   "source": [
    "preds = network(images)"
   ]
  },
  {
   "cell_type": "code",
   "execution_count": 8,
   "metadata": {
    "ExecuteTime": {
     "end_time": "2019-08-05T23:36:10.337303Z",
     "start_time": "2019-08-05T23:36:10.332315Z"
    }
   },
   "outputs": [
    {
     "name": "stdout",
     "output_type": "stream",
     "text": [
      "0.711\n"
     ]
    }
   ],
   "source": [
    "print(get_num_correct(labels, preds)/len(labels))"
   ]
  },
  {
   "cell_type": "code",
   "execution_count": 9,
   "metadata": {
    "ExecuteTime": {
     "end_time": "2019-08-05T23:36:10.344283Z",
     "start_time": "2019-08-05T23:36:10.339296Z"
    }
   },
   "outputs": [
    {
     "name": "stdout",
     "output_type": "stream",
     "text": [
      "44287\n"
     ]
    }
   ],
   "source": [
    "print(total_correct)"
   ]
  },
  {
   "cell_type": "code",
   "execution_count": null,
   "metadata": {},
   "outputs": [],
   "source": [
    "# network = Network()\n",
    "# optimizer = optim.Adam(network.parameters(), lr=0.01)\n",
    "\n",
    "# for epoch in range(10):\n",
    "#     total_loss = 0\n",
    "#     total_correct = 0\n",
    "    \n",
    "#     for batch in data_loader:\n",
    "#         images, labels = batch\n",
    "#         preds = network(images)\n",
    "        \n",
    "#         loss = F.cross_entropy(preds, labels)\n",
    "        \n",
    "#         optimizer.zero_grad()\n",
    "#         loss.backward()\n",
    "#         optimizer.step()\n",
    "        \n",
    "#         total_loss += loss\n",
    "#         total_correct += get_num_correct(labels, preds)\n",
    "#     print(\n",
    "#         'epoch:', epoch,\n",
    "#         'total_correct', total_correct,\n",
    "#         'loss', total_loss\n",
    "#     )"
   ]
  }
 ],
 "metadata": {
  "kernelspec": {
   "display_name": "Python 3",
   "language": "python",
   "name": "python3"
  },
  "language_info": {
   "codemirror_mode": {
    "name": "ipython",
    "version": 3
   },
   "file_extension": ".py",
   "mimetype": "text/x-python",
   "name": "python",
   "nbconvert_exporter": "python",
   "pygments_lexer": "ipython3",
   "version": "3.6.6"
  },
  "toc": {
   "base_numbering": 1,
   "nav_menu": {},
   "number_sections": true,
   "sideBar": true,
   "skip_h1_title": false,
   "title_cell": "Table of Contents",
   "title_sidebar": "Contents",
   "toc_cell": false,
   "toc_position": {},
   "toc_section_display": true,
   "toc_window_display": false
  }
 },
 "nbformat": 4,
 "nbformat_minor": 2
}
